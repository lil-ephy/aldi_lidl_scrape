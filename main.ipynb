{
 "cells": [
  {
   "cell_type": "markdown",
   "metadata": {},
   "source": [
    "# Aldi vs. Lidl scraping\n",
    "\n",
    "### Objectives\n",
    "\n",
    " - list of postcodes\n",
    " - scrape all locations based on postcode list\n",
    " - drop duplicates\n",
    "- get postcodes where 7 characters (only works for 6 character postcodes)\n",
    " - drop rows where lat,long == 99,0 <- not yet"
   ]
  },
  {
   "cell_type": "code",
   "execution_count": 2,
   "metadata": {},
   "outputs": [],
   "source": [
    "import pandas as pd\n",
    "import requests\n",
    "import time"
   ]
  },
  {
   "cell_type": "code",
   "execution_count": 4,
   "metadata": {},
   "outputs": [],
   "source": [
    "# Remove unnecessary data and save as new csv\n",
    "my_list = pd.read_csv('.ONSPD_NOV_2021_UK/Data/ONSPD_NOV_2021_UK.csv')"
   ]
  },
  {
   "cell_type": "code",
   "execution_count": 7,
   "metadata": {},
   "outputs": [],
   "source": [
    "# create new dataframe from loaded csv\n",
    "x = my_list\n",
    "\n",
    "# format dataframe and save to csv\n",
    "x = x[['pcd', 'lat', 'long']].reset_index(drop=True)\n",
    "x[['pc1','pc2']] = x['pcd'].str.split(expand=True)\n",
    "x.to_csv('postcodes.csv')\n",
    "\n",
    "# x['pc3'] = x['pcd'].str.replace(' ','')"
   ]
  },
  {
   "cell_type": "code",
   "execution_count": 10,
   "metadata": {},
   "outputs": [
    {
     "data": {
      "text/html": [
       "<div>\n",
       "<style scoped>\n",
       "    .dataframe tbody tr th:only-of-type {\n",
       "        vertical-align: middle;\n",
       "    }\n",
       "\n",
       "    .dataframe tbody tr th {\n",
       "        vertical-align: top;\n",
       "    }\n",
       "\n",
       "    .dataframe thead th {\n",
       "        text-align: right;\n",
       "    }\n",
       "</style>\n",
       "<table border=\"1\" class=\"dataframe\">\n",
       "  <thead>\n",
       "    <tr style=\"text-align: right;\">\n",
       "      <th></th>\n",
       "      <th>pcd</th>\n",
       "      <th>lat</th>\n",
       "      <th>long</th>\n",
       "      <th>pc1</th>\n",
       "      <th>pc2</th>\n",
       "    </tr>\n",
       "  </thead>\n",
       "  <tbody>\n",
       "    <tr>\n",
       "      <th>0</th>\n",
       "      <td>AB1 0AA</td>\n",
       "      <td>57.101474</td>\n",
       "      <td>-2.242851</td>\n",
       "      <td>AB1</td>\n",
       "      <td>0AA</td>\n",
       "    </tr>\n",
       "    <tr>\n",
       "      <th>1</th>\n",
       "      <td>AB101AA</td>\n",
       "      <td>57.148232</td>\n",
       "      <td>-2.096648</td>\n",
       "      <td>AB10</td>\n",
       "      <td>01AA</td>\n",
       "    </tr>\n",
       "    <tr>\n",
       "      <th>2</th>\n",
       "      <td>AB113AG</td>\n",
       "      <td>99.999999</td>\n",
       "      <td>0.000000</td>\n",
       "      <td>AB11</td>\n",
       "      <td>13AG</td>\n",
       "    </tr>\n",
       "    <tr>\n",
       "      <th>3</th>\n",
       "      <td>AB123AB</td>\n",
       "      <td>57.127850</td>\n",
       "      <td>-2.095537</td>\n",
       "      <td>AB12</td>\n",
       "      <td>23AB</td>\n",
       "    </tr>\n",
       "    <tr>\n",
       "      <th>4</th>\n",
       "      <td>AB130AA</td>\n",
       "      <td>57.098044</td>\n",
       "      <td>-2.239155</td>\n",
       "      <td>AB13</td>\n",
       "      <td>30AA</td>\n",
       "    </tr>\n",
       "  </tbody>\n",
       "</table>\n",
       "</div>"
      ],
      "text/plain": [
       "       pcd        lat      long   pc1   pc2\n",
       "0  AB1 0AA  57.101474 -2.242851  AB1    0AA\n",
       "1  AB101AA  57.148232 -2.096648  AB10  01AA\n",
       "2  AB113AG  99.999999  0.000000  AB11  13AG\n",
       "3  AB123AB  57.127850 -2.095537  AB12  23AB\n",
       "4  AB130AA  57.098044 -2.239155  AB13  30AA"
      ]
     },
     "execution_count": 10,
     "metadata": {},
     "output_type": "execute_result"
    }
   ],
   "source": [
    "# drop duplicates from dataframe\n",
    "y = x.drop_duplicates(subset='pc1')\n",
    "y['pc1'] = y['pcd'].str[:4]\n",
    "y['pc2'] = y['pcd'].str[3:8]\n",
    "y = y.drop_duplicates(subset='pc1').reset_index(drop=True)\n",
    "y.to_csv('postcodes_cut.csv')\n",
    "y.head()\n",
    "\n",
    "# z = y['pc3'].squeeze().str.len()\n",
    "# print(z)\n",
    "# if length of string in pc3 == 7\n",
    "# pc2 = pc1.split(4 characters in)\n",
    "# print(y.iloc[:,0])"
   ]
  },
  {
   "cell_type": "code",
   "execution_count": null,
   "metadata": {},
   "outputs": [],
   "source": [
    "url = 'https://www.aldi.co.uk/api/store-finder/search?q=BL2%203FP&address=Ryeburn%20Dr%2C%20Bolton%20BL2%203FP&latitude=53.6064826&longitude=-2.4095537'\n",
    "payload = {}\n",
    "headers = {'User-Agent': 'Mozilla/5.0 (Macintosh; Intel Mac OS X 10_11_5) AppleWebKit/537.36 (KHTML, like Gecko) Chrome/50.0.2661.102 Safari/537.36'}\n",
    "result = requests.get(url, headers=headers).json()\n",
    "\n",
    "df = pd.json_normalize(result, record_path='results')\n",
    "df = df.drop(['distance','openingTimes','isFirstStore','selectedPage'],axis=1)"
   ]
  },
  {
   "cell_type": "code",
   "execution_count": null,
   "metadata": {},
   "outputs": [],
   "source": [
    "data = []\n",
    "i = 0\n",
    "# for i in range(len(my_list)):\n",
    "#   print(my_list.iloc[i, 3], my_list.iloc[i, 4])\n",
    "\n",
    "for row in my_list.itertuples():\n",
    "    url = f'https://www.aldi.co.uk/api/store-finder/search?q={getattr(row, \"pc1\")}%20{getattr(row, \"pc2\")}&latitude=&longitude='\n",
    "    print(url)\n",
    "\n",
    "# for z,y,x,w in my_list[['pc1','pc2','lat','long']].values:\n",
    "#     url = f'https://www.aldi.co.uk/api/store-finder/search?q={z}%20{y}&latitude={x}&longitude={w}'\n",
    "#     result = requests.get(url, headers=headers).json()\n",
    "\n"
   ]
  }
 ],
 "metadata": {
  "interpreter": {
   "hash": "7f27e74639edd2c957d883d01aeb023a78ce431d2d82138d178f0d48626a5c52"
  },
  "kernelspec": {
   "display_name": "Python 3.10.1 64-bit ('web_scraping-s37P8D4g': pipenv)",
   "language": "python",
   "name": "python3"
  },
  "language_info": {
   "codemirror_mode": {
    "name": "ipython",
    "version": 3
   },
   "file_extension": ".py",
   "mimetype": "text/x-python",
   "name": "python",
   "nbconvert_exporter": "python",
   "pygments_lexer": "ipython3",
   "version": "3.10.1"
  },
  "orig_nbformat": 4
 },
 "nbformat": 4,
 "nbformat_minor": 2
}
