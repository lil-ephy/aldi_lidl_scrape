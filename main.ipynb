{
 "cells": [
  {
   "cell_type": "markdown",
   "metadata": {},
   "source": [
    "# Aldi vs. Lidl scraping\n",
    "\n",
    "### Objectives\n",
    "\n",
    " - list of postcodes\n",
    " - scrape all locations based on postcode list\n",
    " - drop duplicates\n",
    "- get postcodes where 7 characters (only works for 6 character postcodes)\n",
    " - drop rows where lat,long == 99,0 <- not yet"
   ]
  },
  {
   "cell_type": "code",
   "execution_count": 2,
   "metadata": {},
   "outputs": [],
   "source": [
    "import pandas as pd\n",
    "import requests\n",
    "import time"
   ]
  },
  {
   "cell_type": "code",
   "execution_count": 4,
   "metadata": {},
   "outputs": [],
   "source": [
    "# Remove unnecessary data and save as new csv\n",
    "my_list = pd.read_csv('.ONSPD_NOV_2021_UK/Data/ONSPD_NOV_2021_UK.csv')"
   ]
  },
  {
   "cell_type": "code",
   "execution_count": 7,
   "metadata": {},
   "outputs": [],
   "source": [
    "# create new dataframe from loaded csv\n",
    "x = my_list\n",
    "\n",
    "# format dataframe and save to csv\n",
    "x = x[['pcd', 'lat', 'long']].reset_index(drop=True)\n",
    "x[['pc1','pc2']] = x['pcd'].str.split(expand=True)\n",
    "x.to_csv('postcodes.csv')\n",
    "\n",
    "# x['pc3'] = x['pcd'].str.replace(' ','')"
   ]
  },
  {
   "cell_type": "code",
   "execution_count": 19,
   "metadata": {},
   "outputs": [],
   "source": [
    "# drop duplicates from dataframe\n",
    "y = x.drop_duplicates(subset='pc1')\n",
    "y['pc1'] = y['pcd'].str[:4]\n",
    "y['pc2'] = y['pcd'].str[3:8]\n",
    "y = y.drop_duplicates(subset='pc1').reset_index(drop=True)\n",
    "y = y[y.lat < 99]\n",
    "y.to_csv('postcodes_cut.csv')\n",
    "\n",
    "# z = y['pc3'].squeeze().str.len()\n",
    "# print(z)\n",
    "# if length of string in pc3 == 7\n",
    "# pc2 = pc1.split(4 characters in)\n",
    "# print(y.iloc[:,0])"
   ]
  },
  {
   "cell_type": "code",
   "execution_count": null,
   "metadata": {},
   "outputs": [],
   "source": [
    "url = 'https://www.aldi.co.uk/api/store-finder/search?q=BL2%203FP&address=Ryeburn%20Dr%2C%20Bolton%20BL2%203FP&latitude=53.6064826&longitude=-2.4095537'\n",
    "payload = {}\n",
    "headers = {'User-Agent': 'Mozilla/5.0 (Macintosh; Intel Mac OS X 10_11_5) AppleWebKit/537.36 (KHTML, like Gecko) Chrome/50.0.2661.102 Safari/537.36'}\n",
    "result = requests.get(url, headers=headers).json()\n",
    "\n",
    "df = pd.json_normalize(result, record_path='results')\n",
    "df = df.drop(['distance','openingTimes','isFirstStore','selectedPage'],axis=1)"
   ]
  },
  {
   "cell_type": "code",
   "execution_count": null,
   "metadata": {},
   "outputs": [],
   "source": [
    "data = []\n",
    "i = 0\n",
    "# for i in range(len(my_list)):\n",
    "#   print(my_list.iloc[i, 3], my_list.iloc[i, 4])\n",
    "\n",
    "for row in my_list.itertuples():\n",
    "    url = f'https://www.aldi.co.uk/api/store-finder/search?q={getattr(row, \"pc1\")}%20{getattr(row, \"pc2\")}&latitude=&longitude='\n",
    "    print(url)\n",
    "\n",
    "# for z,y,x,w in my_list[['pc1','pc2','lat','long']].values:\n",
    "#     url = f'https://www.aldi.co.uk/api/store-finder/search?q={z}%20{y}&latitude={x}&longitude={w}'\n",
    "#     result = requests.get(url, headers=headers).json()\n",
    "\n"
   ]
  }
 ],
 "metadata": {
  "interpreter": {
   "hash": "7f27e74639edd2c957d883d01aeb023a78ce431d2d82138d178f0d48626a5c52"
  },
  "kernelspec": {
   "display_name": "Python 3.10.1 64-bit ('web_scraping-s37P8D4g': pipenv)",
   "language": "python",
   "name": "python3"
  },
  "language_info": {
   "codemirror_mode": {
    "name": "ipython",
    "version": 3
   },
   "file_extension": ".py",
   "mimetype": "text/x-python",
   "name": "python",
   "nbconvert_exporter": "python",
   "pygments_lexer": "ipython3",
   "version": "3.10.1"
  },
  "orig_nbformat": 4
 },
 "nbformat": 4,
 "nbformat_minor": 2
}
