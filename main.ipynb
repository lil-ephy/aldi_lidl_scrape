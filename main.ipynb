{
 "cells": [
  {
   "cell_type": "markdown",
   "metadata": {},
   "source": [
    "# Aldi vs. Lidl scraping\n",
    "\n",
    "### Objectives\n",
    "\n",
    " - list of postcodes\n",
    " - scrape all locations based on postcode list\n",
    " - drop duplicates\n",
    "- get postcodes where 7 characters (only works for 6 character postcodes)\n",
    " - drop rows where lat,long == 99,0 <- not yet"
   ]
  },
  {
   "cell_type": "code",
   "execution_count": 1,
   "metadata": {},
   "outputs": [],
   "source": [
    "import pandas as pd\n",
    "import requests\n",
    "import time"
   ]
  },
  {
   "cell_type": "code",
   "execution_count": 2,
   "metadata": {},
   "outputs": [],
   "source": [
    "# Remove unnecessary data and save as new csv\n",
    "my_list = pd.read_csv('ONSPD_NOV_2021_UK/Data/ONSPD_NOV_2021_UK.csv')"
   ]
  },
  {
   "cell_type": "code",
   "execution_count": 48,
   "metadata": {},
   "outputs": [],
   "source": [
    "# create new dataframe from loaded csv\n",
    "x = my_list\n",
    "\n",
    "# format dataframe and save to csv\n",
    "x = x[['pcd', 'lat', 'long']].reset_index(drop=True)\n",
    "x[['pc1','pc2']] = x['pcd'].str.split(expand=True)\n",
    "x['pc3'] = x['pcd'].str.replace(' ','')\n",
    "x.to_csv('postcodes.csv')"
   ]
  },
  {
   "cell_type": "code",
   "execution_count": 49,
   "metadata": {},
   "outputs": [
    {
     "data": {
      "text/html": [
       "<div>\n",
       "<style scoped>\n",
       "    .dataframe tbody tr th:only-of-type {\n",
       "        vertical-align: middle;\n",
       "    }\n",
       "\n",
       "    .dataframe tbody tr th {\n",
       "        vertical-align: top;\n",
       "    }\n",
       "\n",
       "    .dataframe thead th {\n",
       "        text-align: right;\n",
       "    }\n",
       "</style>\n",
       "<table border=\"1\" class=\"dataframe\">\n",
       "  <thead>\n",
       "    <tr style=\"text-align: right;\">\n",
       "      <th></th>\n",
       "      <th>pcd</th>\n",
       "      <th>lat</th>\n",
       "      <th>long</th>\n",
       "      <th>pc1</th>\n",
       "      <th>pc2</th>\n",
       "      <th>pc3</th>\n",
       "    </tr>\n",
       "  </thead>\n",
       "  <tbody>\n",
       "    <tr>\n",
       "      <th>0</th>\n",
       "      <td>AB1 0AA</td>\n",
       "      <td>57.101474</td>\n",
       "      <td>-2.242851</td>\n",
       "      <td>AB1</td>\n",
       "      <td>0AA</td>\n",
       "      <td>AB10AA</td>\n",
       "    </tr>\n",
       "    <tr>\n",
       "      <th>2655</th>\n",
       "      <td>AB101AA</td>\n",
       "      <td>57.148232</td>\n",
       "      <td>-2.096648</td>\n",
       "      <td>AB101AA</td>\n",
       "      <td>None</td>\n",
       "      <td>AB101AA</td>\n",
       "    </tr>\n",
       "    <tr>\n",
       "      <th>2656</th>\n",
       "      <td>AB101AB</td>\n",
       "      <td>57.149606</td>\n",
       "      <td>-2.096916</td>\n",
       "      <td>AB101AB</td>\n",
       "      <td>None</td>\n",
       "      <td>AB101AB</td>\n",
       "    </tr>\n",
       "    <tr>\n",
       "      <th>2657</th>\n",
       "      <td>AB101AD</td>\n",
       "      <td>57.148125</td>\n",
       "      <td>-2.095540</td>\n",
       "      <td>AB101AD</td>\n",
       "      <td>None</td>\n",
       "      <td>AB101AD</td>\n",
       "    </tr>\n",
       "    <tr>\n",
       "      <th>2658</th>\n",
       "      <td>AB101AF</td>\n",
       "      <td>57.149590</td>\n",
       "      <td>-2.096923</td>\n",
       "      <td>AB101AF</td>\n",
       "      <td>None</td>\n",
       "      <td>AB101AF</td>\n",
       "    </tr>\n",
       "  </tbody>\n",
       "</table>\n",
       "</div>"
      ],
      "text/plain": [
       "          pcd        lat      long      pc1   pc2      pc3\n",
       "0     AB1 0AA  57.101474 -2.242851      AB1   0AA   AB10AA\n",
       "2655  AB101AA  57.148232 -2.096648  AB101AA  None  AB101AA\n",
       "2656  AB101AB  57.149606 -2.096916  AB101AB  None  AB101AB\n",
       "2657  AB101AD  57.148125 -2.095540  AB101AD  None  AB101AD\n",
       "2658  AB101AF  57.149590 -2.096923  AB101AF  None  AB101AF"
      ]
     },
     "execution_count": 49,
     "metadata": {},
     "output_type": "execute_result"
    }
   ],
   "source": [
    "# drop duplicates from dataframe\n",
    "y = x.drop_duplicates(subset='pc1')\n",
    "z = y['pc3'].squeeze().str.len()\n",
    "# print(z)\n",
    "\n",
    "\n",
    "# if length of string in pc3 == 7\n",
    "# pc2 = pc1.split(4 characters in)\n",
    "# print(y.iloc[:,0])\n",
    "\n",
    "y.head()"
   ]
  },
  {
   "cell_type": "code",
   "execution_count": 42,
   "metadata": {},
   "outputs": [
    {
     "name": "stdout",
     "output_type": "stream",
     "text": [
      "0          6\n",
      "2655       7\n",
      "2656       7\n",
      "2657       7\n",
      "2658       7\n",
      "          ..\n",
      "2668245    7\n",
      "2668246    7\n",
      "2668247    6\n",
      "2668640    6\n",
      "2668986    6\n",
      "Name: pc3, Length: 1196057, dtype: int64\n"
     ]
    }
   ],
   "source": []
  },
  {
   "cell_type": "code",
   "execution_count": null,
   "metadata": {},
   "outputs": [],
   "source": [
    "url = 'https://www.aldi.co.uk/api/store-finder/search?q=BL2%203FP&address=Ryeburn%20Dr%2C%20Bolton%20BL2%203FP&latitude=53.6064826&longitude=-2.4095537'\n",
    "payload = {}\n",
    "headers = {'User-Agent': 'Mozilla/5.0 (Macintosh; Intel Mac OS X 10_11_5) AppleWebKit/537.36 (KHTML, like Gecko) Chrome/50.0.2661.102 Safari/537.36'}\n",
    "result = requests.get(url, headers=headers).json()\n",
    "\n",
    "df = pd.json_normalize(result, record_path='results')\n",
    "df = df.drop(['distance','openingTimes','isFirstStore','selectedPage'],axis=1)"
   ]
  },
  {
   "cell_type": "code",
   "execution_count": null,
   "metadata": {},
   "outputs": [],
   "source": [
    "data = []\n",
    "i = 0\n",
    "# for i in range(len(my_list)):\n",
    "#   print(my_list.iloc[i, 3], my_list.iloc[i, 4])\n",
    "\n",
    "for row in my_list.itertuples():\n",
    "    url = f'https://www.aldi.co.uk/api/store-finder/search?q={getattr(row, \"pc1\")}%20{getattr(row, \"pc2\")}&latitude=&longitude='\n",
    "    print(url)\n",
    "\n",
    "# for z,y,x,w in my_list[['pc1','pc2','lat','long']].values:\n",
    "#     url = f'https://www.aldi.co.uk/api/store-finder/search?q={z}%20{y}&latitude={x}&longitude={w}'\n",
    "#     result = requests.get(url, headers=headers).json()\n",
    "\n"
   ]
  }
 ],
 "metadata": {
  "interpreter": {
   "hash": "7f27e74639edd2c957d883d01aeb023a78ce431d2d82138d178f0d48626a5c52"
  },
  "kernelspec": {
   "display_name": "Python 3.10.1 64-bit ('web_scraping-s37P8D4g': pipenv)",
   "language": "python",
   "name": "python3"
  },
  "language_info": {
   "codemirror_mode": {
    "name": "ipython",
    "version": 3
   },
   "file_extension": ".py",
   "mimetype": "text/x-python",
   "name": "python",
   "nbconvert_exporter": "python",
   "pygments_lexer": "ipython3",
   "version": "3.10.1"
  },
  "orig_nbformat": 4
 },
 "nbformat": 4,
 "nbformat_minor": 2
}
