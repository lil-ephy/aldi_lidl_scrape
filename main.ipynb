{
 "cells": [
  {
   "cell_type": "markdown",
   "metadata": {},
   "source": [
    "# Aldi vs. Lidl scraping\n",
    "\n",
    "### Objectives\n",
    "\n",
    " - get list of postcodes\n",
    " - drop duplicates\n",
    " - split postcodes where 6 or 7 characters\n",
    " - drop rows where lat,long == 99,0"
   ]
  },
  {
   "cell_type": "code",
   "execution_count": 21,
   "metadata": {},
   "outputs": [],
   "source": [
    "import pandas as pd\n",
    "import requests\n",
    "import time"
   ]
  },
  {
   "cell_type": "code",
   "execution_count": 26,
   "metadata": {},
   "outputs": [],
   "source": [
    "# Remove unnecessary data and save as new csv\n",
    "my_list = pd.read_csv('.ONSPD_NOV_2021_UK/Data/ONSPD_NOV_2021_UK.csv',skipinitialspace=True)"
   ]
  },
  {
   "cell_type": "code",
   "execution_count": 27,
   "metadata": {},
   "outputs": [],
   "source": [
    "# create new dataframe from loaded csv\n",
    "x = my_list\n",
    "\n",
    "# format dataframe and save to csv\n",
    "x = x[['pcd', 'lat', 'long']].reset_index(drop=True)\n",
    "x[['pc1','pc2']] = x['pcd'].str.split(expand=True)\n",
    "x.to_csv('postcodes.csv')\n",
    "\n",
    "# x['pc3'] = x['pcd'].str.replace(' ','')"
   ]
  },
  {
   "cell_type": "code",
   "execution_count": 31,
   "metadata": {},
   "outputs": [],
   "source": [
    "# drop duplicates from dataframe\n",
    "y = x.drop_duplicates(subset='pc1')\n",
    "y['pc1'] = y['pcd'].str[:4]\n",
    "y['pc2'] = y['pcd'].str[3:8]\n",
    "y = y[y.lat < 99]\n",
    "y = y.drop_duplicates(subset='pc1').reset_index(drop=True)\n",
    "y['pc1'] = y['pc1'].str.replace(\" \",\"\")\n",
    "y['pc2'] = y['pc2'].str.replace(\" \",\"\")\n",
    "y.to_csv('postcodes_cut.csv')\n",
    "\n",
    "# z = y['pc3'].squeeze().str.len()\n",
    "# print(z)\n",
    "# if length of string in pc3 == 7\n",
    "# pc2 = pc1.split(4 characters in)\n",
    "# print(y.iloc[:,0])"
   ]
  },
  {
   "cell_type": "markdown",
   "metadata": {},
   "source": [
    "### Data download\n",
    " - Loop through postcode/lat/long to download Aldi store data\n",
    " - Drop duplicates"
   ]
  },
  {
   "cell_type": "code",
   "execution_count": 33,
   "metadata": {},
   "outputs": [
    {
     "data": {
      "text/html": [
       "<div>\n",
       "<style scoped>\n",
       "    .dataframe tbody tr th:only-of-type {\n",
       "        vertical-align: middle;\n",
       "    }\n",
       "\n",
       "    .dataframe tbody tr th {\n",
       "        vertical-align: top;\n",
       "    }\n",
       "\n",
       "    .dataframe thead th {\n",
       "        text-align: right;\n",
       "    }\n",
       "</style>\n",
       "<table border=\"1\" class=\"dataframe\">\n",
       "  <thead>\n",
       "    <tr style=\"text-align: right;\">\n",
       "      <th></th>\n",
       "      <th>code</th>\n",
       "      <th>name</th>\n",
       "      <th>address</th>\n",
       "      <th>features</th>\n",
       "      <th>latlng.lat</th>\n",
       "      <th>latlng.lng</th>\n",
       "    </tr>\n",
       "  </thead>\n",
       "  <tbody>\n",
       "    <tr>\n",
       "      <th>0</th>\n",
       "      <td>s-uk-E0125</td>\n",
       "      <td>ALDI - Higher Bridge Street</td>\n",
       "      <td>[Bolton, BL1 2HJ]</td>\n",
       "      <td>[parking]</td>\n",
       "      <td>53.585353</td>\n",
       "      <td>-2.430781</td>\n",
       "    </tr>\n",
       "    <tr>\n",
       "      <th>1</th>\n",
       "      <td>s-uk-E1060</td>\n",
       "      <td>ALDI - Fold Lane, Breightmet</td>\n",
       "      <td>[Bolton, BL2 6PP]</td>\n",
       "      <td>[parking]</td>\n",
       "      <td>53.580825</td>\n",
       "      <td>-2.381599</td>\n",
       "    </tr>\n",
       "    <tr>\n",
       "      <th>2</th>\n",
       "      <td>s-uk-E0623</td>\n",
       "      <td>ALDI - Trinity Street</td>\n",
       "      <td>[Bolton, BL3 6DH]</td>\n",
       "      <td>[parking]</td>\n",
       "      <td>53.573461</td>\n",
       "      <td>-2.433047</td>\n",
       "    </tr>\n",
       "    <tr>\n",
       "      <th>3</th>\n",
       "      <td>s-uk-E1183</td>\n",
       "      <td>ALDI - Vincent Way</td>\n",
       "      <td>[Bolton, BL3 2NB]</td>\n",
       "      <td>[]</td>\n",
       "      <td>53.565766</td>\n",
       "      <td>-2.414645</td>\n",
       "    </tr>\n",
       "    <tr>\n",
       "      <th>4</th>\n",
       "      <td>s-uk-E0879</td>\n",
       "      <td>ALDI - Crostons R Park, Wood St</td>\n",
       "      <td>[Bury, BL8 1GU]</td>\n",
       "      <td>[parking]</td>\n",
       "      <td>53.595568</td>\n",
       "      <td>-2.311532</td>\n",
       "    </tr>\n",
       "  </tbody>\n",
       "</table>\n",
       "</div>"
      ],
      "text/plain": [
       "         code                             name            address   features  \\\n",
       "0  s-uk-E0125      ALDI - Higher Bridge Street  [Bolton, BL1 2HJ]  [parking]   \n",
       "1  s-uk-E1060     ALDI - Fold Lane, Breightmet  [Bolton, BL2 6PP]  [parking]   \n",
       "2  s-uk-E0623            ALDI - Trinity Street  [Bolton, BL3 6DH]  [parking]   \n",
       "3  s-uk-E1183               ALDI - Vincent Way  [Bolton, BL3 2NB]         []   \n",
       "4  s-uk-E0879  ALDI - Crostons R Park, Wood St    [Bury, BL8 1GU]  [parking]   \n",
       "\n",
       "   latlng.lat  latlng.lng  \n",
       "0   53.585353   -2.430781  \n",
       "1   53.580825   -2.381599  \n",
       "2   53.573461   -2.433047  \n",
       "3   53.565766   -2.414645  \n",
       "4   53.595568   -2.311532  "
      ]
     },
     "execution_count": 33,
     "metadata": {},
     "output_type": "execute_result"
    }
   ],
   "source": [
    "url = 'https://www.aldi.co.uk/api/store-finder/search?q=BL2%203FP&address=Ryeburn%20Dr%2C%20Bolton%20BL2%203FP&latitude=53.6064826&longitude=-2.4095537'\n",
    "payload = {}\n",
    "headers = {'User-Agent': 'Mozilla/5.0 (Macintosh; Intel Mac OS X 10_11_5) AppleWebKit/537.36 (KHTML, like Gecko) Chrome/50.0.2661.102 Safari/537.36'}\n",
    "result = requests.get(url, headers=headers).json()\n",
    "\n",
    "df = pd.json_normalize(result, record_path='results')\n",
    "df = df.drop(['distance','description','openingTimes','isFirstStore','selectedPage'],axis=1).drop_duplicates('name')\n",
    "df"
   ]
  },
  {
   "cell_type": "code",
   "execution_count": null,
   "metadata": {},
   "outputs": [],
   "source": [
    "data = []\n",
    "i = 0\n",
    "# for i in range(len(my_list)):\n",
    "#   print(my_list.iloc[i, 3], my_list.iloc[i, 4])\n",
    "\n",
    "for row in my_list.itertuples():\n",
    "    url = f'https://www.aldi.co.uk/api/store-finder/search?q={getattr(row, \"pc1\")}%20{getattr(row, \"pc2\")}&latitude=&longitude='\n",
    "    print(url)\n",
    "\n",
    "# for z,y,x,w in my_list[['pc1','pc2','lat','long']].values:\n",
    "#     url = f'https://www.aldi.co.uk/api/store-finder/search?q={z}%20{y}&latitude={x}&longitude={w}'\n",
    "#     result = requests.get(url, headers=headers).json()\n",
    "\n"
   ]
  }
 ],
 "metadata": {
  "interpreter": {
   "hash": "7f27e74639edd2c957d883d01aeb023a78ce431d2d82138d178f0d48626a5c52"
  },
  "kernelspec": {
   "display_name": "Python 3.10.1 64-bit ('web_scraping-s37P8D4g': pipenv)",
   "language": "python",
   "name": "python3"
  },
  "language_info": {
   "codemirror_mode": {
    "name": "ipython",
    "version": 3
   },
   "file_extension": ".py",
   "mimetype": "text/x-python",
   "name": "python",
   "nbconvert_exporter": "python",
   "pygments_lexer": "ipython3",
   "version": "3.10.1"
  },
  "orig_nbformat": 4
 },
 "nbformat": 4,
 "nbformat_minor": 2
}
